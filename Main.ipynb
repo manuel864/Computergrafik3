{
 "cells": [
  {
   "attachments": {},
   "cell_type": "markdown",
   "metadata": {},
   "source": [
    "# Interpolation\n",
    "## Polynom Interpolation\n",
    "\n",
    "Um zwischen Punkten zu interpolieren, kann eine Polynom-Interpolation durchgeführt werden.\n",
    "\n",
    "Das Ziel einer Polynom-Interpolation ist es, ein Polynom zu finden, welches durch die gegebenen Punkte (Stützstellen) geht.\n",
    "\n",
    "Ein Polynom ist wie folgt definiert:\n",
    "\n",
    "$\\sum_{i=0}^{n} c_i t^i$\n",
    "\n",
    "n ist das Grad des Polynoms, das gesuchte Polynom hat ein Grad von m-1, wobei m für die Anzahl der gegebenen Punkte steht.\n",
    "\n",
    "$c_i$ sind die Koeffizienten des Polynom.\n",
    "\n",
    "Um ein Polynom $f$ zu finden, welches durch die gegebenen Punkte geht, könnten wir folgendes Gleichungssystem aufstellen:\n",
    "$c_i$ * $t^i$ = $f(t)$\n",
    "\n",
    "Eine Stützstelle ist gegeben durch ($t$,$f(t)$), wir suchen also die Koeffizienten des Polynoms.\n",
    "\n",
    "$$\n",
    "\\left(\\begin{array}{cc} \n",
    " 1 & t_0 & t_0^2 & ... & t_0^n\\\\\n",
    "1 & t_1 & t_1^2 & ... & t_1^n \\\\\n",
    ".\\\\\n",
    ".\\\\\n",
    "1 & t_n & t_n^2 & ... & t_n^n\n",
    "\\end{array}\\right)\n",
    "\\left(\\begin{array}{cc} \n",
    " c_0\\\\\n",
    "c_1\\\\\n",
    ".\\\\\n",
    ".\\\\\n",
    "c_n \n",
    "\\end{array}\\right)\n",
    "=\n",
    "\\left(\\begin{array}{cc} \n",
    " f_0\\\\\n",
    "f_1\\\\\n",
    ".\\\\\n",
    ".\\\\\n",
    "f_n \n",
    "\\end{array}\\right)\n",
    "$$ \n",
    "\n",
    "Die entstandene Matrix nennt sich Vandermonde Matrix, um die eindeutige Lösbarkeit eines Gleichungssystems zu bestimmten, können wir prüfen ob $det A \\neq 0$  \n",
    "\n",
    "Die Determinante  einer Vandermonde Matrix lässt sich wie folgt berechnen: $\\prod_{i,j=1;j>i}^{n} (t_i - t_j)$ Daraus folgt $det A \\neq 0$ wenn $t_i \\neq t_j$"
   ]
  },
  {
   "attachments": {},
   "cell_type": "markdown",
   "metadata": {},
   "source": [
    "Hier ein kleines Porgramm zum Üben von Polynom-Interpolation:\n",
    "Schreibe dazu die Koeffezienten mit Kommern getrennt für das gesuchte Polynome:\n",
    "$c_n,c_{n-1},...,c_0$\n",
    "\n",
    "Erlaubt sind neben Ganz- und Gleitkommerzahlen auch Wurzelfunktion z.B.: sqrt(9)"
   ]
  },
  {
   "cell_type": "code",
   "execution_count": 1,
   "metadata": {},
   "outputs": [
    {
     "name": "stdout",
     "output_type": "stream",
     "text": [
      "pygame 2.5.0 (SDL 2.28.0, Python 3.11.4)\n",
      "Hello from the pygame community. https://www.pygame.org/contribute.html\n"
     ]
    },
    {
     "data": {
      "application/vnd.jupyter.widget-view+json": {
       "model_id": "7d10789494574cdfa59ee3819732a3bb",
       "version_major": 2,
       "version_minor": 0
      },
      "text/plain": [
       "Button(button_style='info', description='Try Out', style=ButtonStyle())"
      ]
     },
     "metadata": {},
     "output_type": "display_data"
    }
   ],
   "source": [
    "import ipywidgets as widgets\n",
    "from IPython.display import display\n",
    "from polynom_interpolation.poly_inter import main \n",
    "\n",
    "def buttonClicked(_):\n",
    "    main()\n",
    "\n",
    "button = widgets.Button(description='Try Out', button_style='info')\n",
    "display(button)\n",
    "button.on_click(buttonClicked)"
   ]
  },
  {
   "attachments": {},
   "cell_type": "markdown",
   "metadata": {},
   "source": [
    "Durch das Lösen des Gleichungssystems, erhalten wir die Koeffizienten des Polynoms und können damit unser Polynom bauen. \n",
    "\n",
    "Die Polynom-Interpolation besitzt allerdings einige Nachteile:\n",
    "\n",
    "1. Durch steigende Stützstellen (Grad des Polynoms) erreicht man nicht unbedingt eine höhere  Qualität. Es kann zu unschönen Ausschläge des Funktionsgraphen kommen.\n",
    "2. Eine Veränderung von einem Punkt führt zur Änderung vom gesamten Funktionsgraphen.\n",
    "3. Bewegungsrichtungen werden nicht beachtet. Die Bewegung eines abprallenden Balles kann so schlecht umgesetzt werden."
   ]
  },
  {
   "attachments": {},
   "cell_type": "markdown",
   "metadata": {},
   "source": [
    "## Hermite Interpolation\n",
    "\n",
    "Als Alternative zur Polynom-Interpolation bietet sich die Hermite-Interpolation an.\n",
    "\n",
    "Bei der Hermite-Interpolation interpoliert man zwischen zwei Punkten in einem Intervall zwischen $0$ und $1$, bei mehrere Punkte werden einzelnen Kurvenstücken aneinander gehängt und ergeben somit eine ganze Kurve.\n",
    "\n",
    "Zusätzlich zur Position $p_i$ wird noch die Steigung $m_i$ an jedem Punkt berücksichtigt, bei zwei Punkten mit jeweils einer Steigung hat man vier Gleichungen, man sucht also ein Polynom dritten Grades.\n",
    "\n",
    "$f(t) = c_3 t^3 + c_2 t^2 + c_1 t + c_0 $\n",
    "\n",
    "Die Steigung eines Punktes lässt sich durch die erste Ableitung ausdrücken:\n",
    "\n",
    "$f'(t) = 3c_3 t^2 + 2c_2 t + c_1 $\n",
    "\n",
    "daraus ergibt sich:\n",
    "\n",
    "$f(0) = c_0$ , $f(1) = c_3+c_2+c_1+c_0$ , $f'(0) = c_1$ , $f'(1) = 3c_3+2c_2+c_1$\n",
    "\n",
    "Das Gleichungssystem als Matrix: \n",
    "\n",
    "\n",
    "$$\n",
    "\\left(\\begin{array}{cc} \n",
    " 1 & 0 & 0 & 0\\\\\n",
    "0 & 1 & 0 & 0 \\\\\n",
    "1 & 1 & 1 & 1 \\\\\n",
    "0 & 1 & 2 & 3 \\\\\n",
    "\\end{array}\\right)\n",
    "\\left(\\begin{array}{cc} \n",
    " c_0\\\\\n",
    "c_1\\\\\n",
    "c_2\\\\\n",
    "c_3 \n",
    "\\end{array}\\right)\n",
    "=\n",
    "\\left(\\begin{array}{cc} \n",
    " f(0)\\\\\n",
    "f'(1)\\\\\n",
    "f(1)\\\\\n",
    "f'(1)\n",
    "\\end{array}\\right)\n",
    "$$ \n",
    "\n",
    "Die lässt sich mit der Inversen lösen: \n",
    "\n",
    "$$\n",
    "\\left(\\begin{array}{cc} \n",
    " c_0\\\\\n",
    "c_1\\\\\n",
    "c_2\\\\\n",
    "c_3 \n",
    "\\end{array}\\right)\n",
    "=\n",
    "\\left(\\begin{array}{cc} \n",
    " 1 & 0 & 0 & 0\\\\\n",
    "0 & 1 & 0 & 0 \\\\\n",
    "-3 & -2 & 3 & -1 \\\\\n",
    "2 & 1 & -2 & 1 \\\\\n",
    "\\end{array}\\right)\n",
    "\n",
    "\\left(\\begin{array}{cc} \n",
    " f(0)\\\\\n",
    "f'(1)\\\\\n",
    "f(1)\\\\\n",
    "f'(1)\n",
    "\\end{array}\\right)\n",
    "$$ \n",
    "\n",
    "Aus der Inversen lassen sich die Basisfunktionen ablesen:\n",
    "\n",
    "$H_0^0 (t) = 2t^3 - 3t^2 +1$\n",
    "\n",
    "$H_1^0 (t) = t^3-2t^2+t$\n",
    "\n",
    "$H_0^1 (t) = -2t^3 + 3t^2$\n",
    "\n",
    "$H_1^1 (t) = t^3-t^2$\n",
    "\n",
    "Die Basisfunktionen können zur Interpolation genutzt werden, in dem man die Punkte bzw. deren Steigungen mit der entsprechenden Basisfunktion multipliziert und dann alles aufsummiert:\n",
    "\n",
    "$p(t) = H_0^0 * p_0 + H_1^0 * m_0 + H_0^1 * p_1 + H_1^1 * m_1$\n",
    "\n",
    "p(t) ist der interpolierte Punkt und zeichnet die Kurve.\n",
    "\n",
    "Die Basisfunktionen dienen also als Gewichtungsfunktion für die Punkte bzw. Steigungen\n"
   ]
  },
  {
   "cell_type": "markdown",
   "metadata": {},
   "source": [
    "Hier ein Demoprogramm, welches eine Hermite Interpolation visualisiert:"
   ]
  },
  {
   "cell_type": "code",
   "execution_count": 2,
   "metadata": {},
   "outputs": [
    {
     "data": {
      "application/vnd.jupyter.widget-view+json": {
       "model_id": "385bb43d39df472598a874a1959f3043",
       "version_major": 2,
       "version_minor": 0
      },
      "text/plain": [
       "Button(button_style='info', description='Try Out', style=ButtonStyle())"
      ]
     },
     "metadata": {},
     "output_type": "display_data"
    }
   ],
   "source": [
    "import ipywidgets as widgets\n",
    "from IPython.display import display\n",
    "from hermite.hermite import main\n",
    "\n",
    "def buttonClicked(_):\n",
    "    main()\n",
    "\n",
    "button = widgets.Button(description='Try Out', button_style='info')\n",
    "display(button)\n",
    "button.on_click(buttonClicked)"
   ]
  },
  {
   "attachments": {},
   "cell_type": "markdown",
   "metadata": {},
   "source": [
    "## Bézierkurve\n",
    "### Allgemeines\n",
    "Eine Bézierkurve ist eine parametrische Spline kurve, welche in der Computergrafik und im Design verbreitet ist. Diese wird durch einen Satz an Kontrollpunkten definiert, wobei der erste Punkt der Anfang der Kurve und der letzte Punkt das Ende der Kurve ist. Die restlichen Punkte haben einen Einfluss auf den Kurvenverlauf, wobei die Kurve, je nach Teil Stärker zu einem gewissen Punkt geneigt ist.\n",
    "Bézierkurven tauschen in unterschiedlichen Graden, mit unterschiedlich vielen Kontrollpunkten auf, darunter die Lineare, quadratische und Kubische Bezierkurven.\n",
    "\n",
    "Die lineare Bézierkurve besteht lediglich aus zwei punkten, welche mit einer Geraden verbunden sind.\n",
    "\n",
    "Die Quadratische Bézierkurve wird durch drei Punkte definiert, einem Anfangs-, einem End- und einem Kontrollpunkt.\n",
    "\n",
    "Die Kubische Bézierkurve hat 4 Punkte und sind die gebräuchlichsten, da diese durch eine erhöhte Kontrolle mehr Möglichkeiten bieten.\n",
    "\n",
    "### Bernsteinpolynome\n",
    "Die Gewichtung der Punkte wird bei einer Bezierkurve durch die Bernsteinpolynome ($B_0^3, B_1^3, B_2^3, B_3^3$) bestimmt, die Gewichtung ist von einer variable, oft t genannt abhängig, welche beeinflusst, zu welchem Zeitpunkt ein Kontrollpunkt wie stark gewichtet wird, dabei ist in der ersten Hälfte des Kurvenverlaufes die Kurve weitestgehend zu $B_1^3$ geneigt und in der zweiten Hälfte zu $B_2^3$.\n",
    "\n",
    "Eine Kubische Bézierkurve b(t) sieht also mit den Bernstein Polynomen als Gewichtungsfunktion wie folgt aus:\n",
    "\n",
    "$b(t) = B_0^3(t) * b0 + B_1^3(t) * b1 + B_2^3(t) * b2 + B_3^3(t) * b3$\n",
    "\n",
    "### Casteljau Algorithmus\n",
    "Durch die Bernsteinpolynome lässt sich der de Casteljau Algorithmus ableiten. Mit diesem kann eine Bézierkurve an der Stelle t dargestellt werden.\n",
    "\n",
    "Der Algorithmus funktioniert wie folgt:\n",
    "1. Gegeben sei eine Bézierkurve, definiert durch n+1 Kontrollpunkte $P_0, P_1, ..., P_n$.\n",
    "2. Man berechnet die lineare Interpolation jedes benachbarten Paares von Kontrollpunkten für den Parameterwert t. Das ergibt n neue Punkte, die wir $b_0, b_1, ..., b_{(n-1)} $ nennen.\n",
    "3. Man wiederholt den vorherigen Schritt für die neu berechneten Punkte, bis nur noch ein Punkt übrig bleibt. Dieser Punkt ist der Punkt auf der Bézierkurve für den Parameterwert t.\n",
    "\n",
    "### Bézierkurve\n",
    "Im Folgenden wurde ein Spiel implementiert, worin eine Bezierkurve gezeichnet wird, welche frei anhand der Kontrollpunkte bewegbar ist.\n",
    "Wird das Spiel gestartet, so muss man mittels der Kontrollpunkte versuchen die Kurve durch die Hindernisse zu zeichnen."
   ]
  },
  {
   "cell_type": "code",
   "execution_count": 1,
   "metadata": {},
   "outputs": [
    {
     "name": "stdout",
     "output_type": "stream",
     "text": [
      "pygame 2.5.0 (SDL 2.28.0, Python 3.11.4)\n",
      "Hello from the pygame community. https://www.pygame.org/contribute.html\n"
     ]
    },
    {
     "data": {
      "application/vnd.jupyter.widget-view+json": {
       "model_id": "9a5e2713c2874a21a5b7741f2e8951fb",
       "version_major": 2,
       "version_minor": 0
      },
      "text/plain": [
       "Button(button_style='info', description='Try Out', style=ButtonStyle())"
      ]
     },
     "metadata": {},
     "output_type": "display_data"
    }
   ],
   "source": [
    "import ipywidgets as widgets\n",
    "from IPython.display import display\n",
    "from bevier_curven.bezierGame import *\n",
    "\n",
    "def buttonClicked(_):\n",
    "    startBezierGame()\n",
    "\n",
    "button = widgets.Button(description='Try Out', button_style='info')\n",
    "display(button)\n",
    "button.on_click(buttonClicked)"
   ]
  },
  {
   "attachments": {},
   "cell_type": "markdown",
   "metadata": {},
   "source": [
    "### Programm Bernstein Polynome\n",
    "Hier wurde ein Programm geschrieben, welches die Bernsteinpolynome grafisch darstellt."
   ]
  },
  {
   "cell_type": "code",
   "execution_count": 4,
   "metadata": {},
   "outputs": [
    {
     "data": {
      "application/vnd.jupyter.widget-view+json": {
       "model_id": "a6cfa04c710e434a8da39f05654eca21",
       "version_major": 2,
       "version_minor": 0
      },
      "text/plain": [
       "Button(button_style='info', description='Try Out', style=ButtonStyle())"
      ]
     },
     "metadata": {},
     "output_type": "display_data"
    }
   ],
   "source": [
    "import ipywidgets as widgets\n",
    "from IPython.display import display\n",
    "from bevier_curven.bernsteinPolynomial import *\n",
    "\n",
    "def buttonClicked(_):\n",
    "    startPolynomGame()\n",
    "\n",
    "button = widgets.Button(description='Try Out', button_style='info')\n",
    "display(button)\n",
    "button.on_click(buttonClicked)"
   ]
  }
 ],
 "metadata": {
  "kernelspec": {
   "display_name": "base",
   "language": "python",
   "name": "python3"
  },
  "language_info": {
   "codemirror_mode": {
    "name": "ipython",
    "version": 3
   },
   "file_extension": ".py",
   "mimetype": "text/x-python",
   "name": "python",
   "nbconvert_exporter": "python",
   "pygments_lexer": "ipython3",
   "version": "3.11.4"
  },
  "orig_nbformat": 4
 },
 "nbformat": 4,
 "nbformat_minor": 2
}
