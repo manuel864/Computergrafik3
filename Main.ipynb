{
 "cells": [
  {
   "attachments": {},
   "cell_type": "markdown",
   "metadata": {},
   "source": [
    "## Bézierkurve\n",
    "### Allgemeines\n",
    "Eine Bézierkurve ist eine parametrische Spline kurve, welche in der Computergrafik und im Design verbreitet ist. Diese wird durch einen Satz an Kontrollpunkten definiert, wobei der erste Punkt der Anfang der Kurve und der letzte Punkt das Ende der Kurve ist. Die restlichen Punkte haben einen Einfluss auf den Kurvenverlauf, wobei die Kurve, je nach Teil Stärker zu einem gewissen Punkt geneigt ist.\n",
    "Bézierkurven tauschen in unterschiedlichen Graden, mit unterschiedlich vielen Kontrollpunkten auf, darunter die Lineare, quadratische und Kubische Bezierkurven.\n",
    "\n",
    "Die lineare Bézierkurve besteht lediglich aus zwei punkten, welche mit einer Geraden verbunden sind.\n",
    "\n",
    "Die Quadratische Bézierkurve wird durch drei Punkte definiert, einem Anfangs-, einem End- und einem Kontrollpunkt.\n",
    "\n",
    "Die Kubische Bézierkurve hat 4 Punkte und sind die gebräuchlichsten, da diese durch eine erhöhte Kontrolle mehr Möglichkeiten bieten.\n",
    "\n",
    "### Bernsteinpolynome\n",
    "Die Gewichtung der Punkte wird bei einer Bezierkurve durch die Bernsteinpolynome (B0, B1, B2, B3) bestimmt, die Gewichtung ist von einer variable, oft t genannt abhängig, welche beeinflusst, zu welchem Zeitpunkt ein Kontrollpunkt wie stark gewichtet wird, dabei ist in der ersten Hälfte des Kurvenverlaufes die Kurve weitestgehend zu B1 geneigt und in der zweiten Hälfte zu B2.\n",
    "\n",
    "Eine Kubische Bézierkurve b(t) sieht also mit den Bernstein Polynomen als Gewichtungsfunktion wie folgt aus:\n",
    "\n",
    "b(t) = B0(t) * b0 + B2(t) * b2 + B1(t) * b1 + B0(t) * b0\n",
    "\n",
    "### Casteljau Algorithmus\n",
    "Durch die Bernsteinpolynome lässt sich der de Casteljau Algorithmus ableiten. Mit diesem kann eine Bézierkurve an der Stelle t dargestellt werden.\n",
    "\n",
    "Der Algorithmus funktioniert wie folgt:\n",
    "1. Gegeben sei eine Bézierkurve, definiert durch n+1 Kontrollpunkte P_0, P_1, ..., P_n.\n",
    "2. Man berechnet die lineare Interpolation jedes benachbarten Paares von Kontrollpunkten für den Parameterwert t. Das ergibt n neue Punkte, die wir Q_0, Q_1, ..., Q_(n-1) nennen.\n",
    "3. Man wiederholt den vorherigen Schritt für die neu berechneten Punkte, bis nur noch ein Punkt übrig bleibt. Dieser Punkt ist der Punkt auf der Bézierkurve für den Parameterwert t.\n",
    "\n",
    "### Bézierkurve\n",
    "Im Folgenden wurde ein Spiel implementiert, worin eine Bezierkurve gezeichnet wird, welche frei anhand der Kontrollpunkte bewegbar ist.\n",
    "Wird das Spiel gestartet, so muss man mittels der Kontrollpunkte versuchen die Kurve durch die Hindernisse zu zeichnen."
   ]
  },
  {
   "cell_type": "code",
   "execution_count": null,
   "metadata": {},
   "outputs": [
    {
     "name": "stdout",
     "output_type": "stream",
     "text": [
      "pygame 2.5.0 (SDL 2.28.0, Python 3.10.9)\n",
      "Hello from the pygame community. https://www.pygame.org/contribute.html\n"
     ]
    },
    {
     "data": {
      "application/vnd.jupyter.widget-view+json": {
       "model_id": "63e2886d9e2d4aaab4f9007bd3ccdff9",
       "version_major": 2,
       "version_minor": 0
      },
      "text/plain": [
       "Button(button_style='info', description='Try Out', style=ButtonStyle())"
      ]
     },
     "metadata": {},
     "output_type": "display_data"
    }
   ],
   "source": [
    "import ipywidgets as widgets\n",
    "from IPython.display import display\n",
    "from bezierGame import *\n",
    "\n",
    "def buttonClicked(_):\n",
    "    startBezierGame()\n",
    "\n",
    "button = widgets.Button(description='Try Out', button_style='info')\n",
    "display(button)\n",
    "button.on_click(buttonClicked)"
   ]
  },
  {
   "attachments": {},
   "cell_type": "markdown",
   "metadata": {},
   "source": [
    "### Programm Bernstein Polynome\n",
    "Hier wurde ein Programm geschrieben, welches die Bernsteinpolynome grafisch darstellt."
   ]
  },
  {
   "cell_type": "code",
   "execution_count": null,
   "metadata": {},
   "outputs": [
    {
     "data": {
      "application/vnd.jupyter.widget-view+json": {
       "model_id": "da49d7a1d1dc4d8db6e9e93be3329a0e",
       "version_major": 2,
       "version_minor": 0
      },
      "text/plain": [
       "Button(button_style='info', description='Try Out', style=ButtonStyle())"
      ]
     },
     "metadata": {},
     "output_type": "display_data"
    }
   ],
   "source": [
    "import ipywidgets as widgets\n",
    "from IPython.display import display\n",
    "from bernsteinPolynomial import *\n",
    "\n",
    "def buttonClicked(_):\n",
    "    startPolynomGame()\n",
    "\n",
    "button = widgets.Button(description='Try Out', button_style='info')\n",
    "display(button)\n",
    "button.on_click(buttonClicked)"
   ]
  }
 ],
 "metadata": {
  "kernelspec": {
   "display_name": "base",
   "language": "python",
   "name": "python3"
  },
  "language_info": {
   "codemirror_mode": {
    "name": "ipython",
    "version": 3
   },
   "file_extension": ".py",
   "mimetype": "text/x-python",
   "name": "python",
   "nbconvert_exporter": "python",
   "pygments_lexer": "ipython3",
   "version": "3.10.9"
  },
  "orig_nbformat": 4
 },
 "nbformat": 4,
 "nbformat_minor": 2
}
