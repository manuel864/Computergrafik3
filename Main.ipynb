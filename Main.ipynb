{
 "cells": [
  {
   "attachments": {},
   "cell_type": "markdown",
   "metadata": {},
   "source": [
    "#Bezier Kurve\n",
    "\n",
    "dauhkihdsa\n",
    "dsadsdsa"
   ]
  },
  {
   "cell_type": "code",
   "execution_count": 1,
   "metadata": {},
   "outputs": [
    {
     "name": "stdout",
     "output_type": "stream",
     "text": [
      "pygame 2.5.0 (SDL 2.28.0, Python 3.10.9)\n",
      "Hello from the pygame community. https://www.pygame.org/contribute.html\n"
     ]
    },
    {
     "ename": "KeyboardInterrupt",
     "evalue": "",
     "output_type": "error",
     "traceback": [
      "\u001b[1;31m---------------------------------------------------------------------------\u001b[0m",
      "\u001b[1;31mKeyboardInterrupt\u001b[0m                         Traceback (most recent call last)",
      "Cell \u001b[1;32mIn[1], line 3\u001b[0m\n\u001b[0;32m      1\u001b[0m \u001b[39mfrom\u001b[39;00m \u001b[39mbernsteinPolynomial\u001b[39;00m \u001b[39mimport\u001b[39;00m \u001b[39m*\u001b[39m\n\u001b[1;32m----> 3\u001b[0m startGame()\n",
      "File \u001b[1;32mc:\\Users\\Manuel\\Desktop\\Uni\\8.Semester\\CG3\\Computergrafik3\\bernsteinPolynomial.py:29\u001b[0m, in \u001b[0;36mstartGame\u001b[1;34m()\u001b[0m\n\u001b[0;32m     27\u001b[0m \u001b[39mwhile\u001b[39;00m running:\n\u001b[0;32m     28\u001b[0m     screen\u001b[39m.\u001b[39mfill(white)\n\u001b[1;32m---> 29\u001b[0m     clock\u001b[39m.\u001b[39;49mtick(fps)\n\u001b[0;32m     30\u001b[0m     pygame\u001b[39m.\u001b[39mdisplay\u001b[39m.\u001b[39mset_caption(\u001b[39m\"\u001b[39m\u001b[39mBezier Curve\u001b[39m\u001b[39m\"\u001b[39m)\n\u001b[0;32m     32\u001b[0m     \u001b[39mfor\u001b[39;00m event \u001b[39min\u001b[39;00m pygame\u001b[39m.\u001b[39mevent\u001b[39m.\u001b[39mget():\n\u001b[0;32m     33\u001b[0m         \u001b[39m#Quit pygame\u001b[39;00m\n",
      "\u001b[1;31mKeyboardInterrupt\u001b[0m: "
     ]
    }
   ],
   "source": [
    "from bernsteinPolynomial import *\n",
    "\n",
    "startGame()"
   ]
  },
  {
   "cell_type": "code",
   "execution_count": 1,
   "metadata": {},
   "outputs": [
    {
     "name": "stdout",
     "output_type": "stream",
     "text": [
      "pygame 2.5.0 (SDL 2.28.0, Python 3.10.9)\n",
      "Hello from the pygame community. https://www.pygame.org/contribute.html\n"
     ]
    }
   ],
   "source": [
    "from bezierGame import *\n",
    "\n",
    "startGame()"
   ]
  }
 ],
 "metadata": {
  "kernelspec": {
   "display_name": "base",
   "language": "python",
   "name": "python3"
  },
  "language_info": {
   "codemirror_mode": {
    "name": "ipython",
    "version": 3
   },
   "file_extension": ".py",
   "mimetype": "text/x-python",
   "name": "python",
   "nbconvert_exporter": "python",
   "pygments_lexer": "ipython3",
   "version": "3.10.9"
  },
  "orig_nbformat": 4
 },
 "nbformat": 4,
 "nbformat_minor": 2
}
